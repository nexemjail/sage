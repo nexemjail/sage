{
 "cells": [
  {
   "cell_type": "code",
   "execution_count": 25,
   "metadata": {},
   "outputs": [],
   "source": [
    "import boto3\n",
    "import pandas as pd\n",
    "import os\n",
    "import sagemaker\n",
    "from sagemaker.estimator import Estimator\n",
    "from sagemaker.parameter import IntegerParameter\n",
    "from sagemaker.s3 import S3Uploader\n",
    "from sagemaker.tuner import HyperparameterTuner\n",
    "from sklearn.model_selection import train_test_split\n",
    "\n",
    "region = boto3.Session().region_name\n",
    "sm_client = boto3.client('sagemaker', region_name=region)"
   ]
  },
  {
   "cell_type": "code",
   "execution_count": 26,
   "metadata": {},
   "outputs": [
    {
     "data": {
      "text/plain": [
       "'s3://sagemaker-input-test-1/data/train.csv'"
      ]
     },
     "metadata": {},
     "output_type": "display_data"
    },
    {
     "data": {
      "text/plain": [
       "'s3://sagemaker-input-test-1/data/validation.csv'"
      ]
     },
     "metadata": {},
     "output_type": "display_data"
    },
    {
     "data": {
      "text/plain": [
       "'s3://sagemaker-input-test-1/data/test.csv'"
      ]
     },
     "metadata": {},
     "output_type": "display_data"
    }
   ],
   "source": [
    "df = pd.read_csv('../data/train.csv')\n",
    "df_train, df_val = train_test_split(df, test_size=0.2, shuffle=True, random_state=444)\n",
    "df_train.to_csv('train.csv', index=False)\n",
    "df_val.to_csv('validation.csv', index=False)\n",
    "uploader = S3Uploader()\n",
    "display(uploader.upload('train.csv', 's3://sagemaker-input-test-1/data'))\n",
    "display(uploader.upload('validation.csv', 's3://sagemaker-input-test-1/data'))\n",
    "display(uploader.upload('../data/test.csv', 's3://sagemaker-input-test-1/data'))\n",
    "os.remove('train.csv')\n",
    "os.remove('validation.csv')"
   ]
  },
  {
   "cell_type": "code",
   "execution_count": 11,
   "metadata": {},
   "outputs": [],
   "source": [
    "estimator = Estimator(\n",
    "#     sagemaker_session=sagemaker.LocalSession(), # comment it out for hyperparameter search\n",
    "    role='AmazonSageMaker-ExecutionRole-20210301T231771',\n",
    "    # image_uri='test-sagemaker-train-container:latest',\n",
    "    image_uri='487576569445.dkr.ecr.eu-west-1.amazonaws.com/test-sagemaker-train-container:latest', # for remote training\n",
    "    instance_type='ml.m5.large', # set it to launch optimization of hyperparameters\n",
    "#     instance_type='local',\n",
    "    instance_count=1,\n",
    "    hyperparameters={\n",
    "        'n_estimators': 150,\n",
    "    }\n",
    ")"
   ]
  },
  {
   "cell_type": "code",
   "execution_count": null,
   "metadata": {},
   "outputs": [],
   "source": [
    "estimator.fit({\n",
    "    'train': 's3://sagemaker-input-test-1/data/train.csv',\n",
    "    'validation': 's3://sagemaker-input-test-1/data/validation.csv'\n",
    "})"
   ]
  },
  {
   "cell_type": "code",
   "execution_count": 14,
   "metadata": {},
   "outputs": [],
   "source": [
    "tuner = HyperparameterTuner(\n",
    "    max_jobs=3,\n",
    "    max_parallel_jobs=1,\n",
    "    estimator=estimator, \n",
    "    objective_metric_name='f1',\n",
    "    hyperparameter_ranges={\n",
    "        'n_estimators': IntegerParameter(min_value=15, max_value=200)\n",
    "    },\n",
    "    metric_definitions=[\n",
    "        {\n",
    "            'Name': 'f1',\n",
    "            'Regex':'^F1=(.*?)$'\n",
    "        }\n",
    "    ]\n",
    ")"
   ]
  },
  {
   "cell_type": "code",
   "execution_count": 21,
   "metadata": {},
   "outputs": [
    {
     "name": "stdout",
     "output_type": "stream",
     "text": [
      "................................................................................................................................!\n"
     ]
    }
   ],
   "source": [
    "tuner.fit({'train': 's3://sagemaker-input-test-1/data/train.csv',\n",
    "           'validation': 's3://sagemaker-input-test-1/data/validation.csv'\n",
    "          })"
   ]
  },
  {
   "cell_type": "code",
   "execution_count": 27,
   "metadata": {},
   "outputs": [
    {
     "name": "stdout",
     "output_type": "stream",
     "text": [
      "\n",
      "2021-03-14 20:41:17 Starting - Preparing the instances for training\n",
      "2021-03-14 20:41:17 Downloading - Downloading input data\n",
      "2021-03-14 20:41:17 Training - Training image download completed. Training in progress.\n",
      "2021-03-14 20:41:17 Uploading - Uploading generated training model\n",
      "2021-03-14 20:41:17 Completed - Training job completed\n"
     ]
    }
   ],
   "source": [
    "best_estimator = tuner.best_estimator()"
   ]
  },
  {
   "cell_type": "code",
   "execution_count": 28,
   "metadata": {},
   "outputs": [
    {
     "data": {
      "text/plain": [
       "{'_tuning_objective_metric': 'f1', 'n_estimators': '22'}"
      ]
     },
     "execution_count": 28,
     "metadata": {},
     "output_type": "execute_result"
    }
   ],
   "source": [
    "best_estimator.hyperparameters()"
   ]
  },
  {
   "cell_type": "code",
   "execution_count": null,
   "metadata": {},
   "outputs": [],
   "source": []
  }
 ],
 "metadata": {
  "kernelspec": {
   "display_name": "Python (myenv)",
   "language": "python",
   "name": "myenv"
  },
  "language_info": {
   "codemirror_mode": {
    "name": "ipython",
    "version": 3
   },
   "file_extension": ".py",
   "mimetype": "text/x-python",
   "name": "python",
   "nbconvert_exporter": "python",
   "pygments_lexer": "ipython3",
   "version": "3.8.5"
  }
 },
 "nbformat": 4,
 "nbformat_minor": 1
}
