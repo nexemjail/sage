{
 "cells": [
  {
   "cell_type": "code",
   "execution_count": null,
   "id": "changed-agriculture",
   "metadata": {},
   "outputs": [],
   "source": [
    "import sagemaker\n",
    "import lightgbm as lgb\n",
    "import pandas as pd\n",
    "import boto3"
   ]
  },
  {
   "cell_type": "code",
   "execution_count": null,
   "id": "vietnamese-behavior",
   "metadata": {},
   "outputs": [],
   "source": [
    "session = boto3.Session()"
   ]
  },
  {
   "cell_type": "code",
   "execution_count": null,
   "id": "transsexual-cruise",
   "metadata": {},
   "outputs": [],
   "source": [
    "sm = sagemaker.Session(boto_session=session)"
   ]
  },
  {
   "cell_type": "code",
   "execution_count": null,
   "id": "advanced-receipt",
   "metadata": {},
   "outputs": [],
   "source": [
    "sm._region_name"
   ]
  },
  {
   "cell_type": "code",
   "execution_count": null,
   "id": "nervous-constitution",
   "metadata": {},
   "outputs": [],
   "source": [
    "train_df = pd.read_csv('~/Downloads/train.csv')\n",
    "test_df = pd.read_csv('~/Downloads/test.csv')"
   ]
  },
  {
   "cell_type": "code",
   "execution_count": null,
   "id": "developmental-globe",
   "metadata": {},
   "outputs": [],
   "source": [
    "import pandas_profiling\n",
    "\n",
    "from pandas_profiling import ProfileReport\n",
    "\n",
    "from sklearn.pipeline import Pipeline\n",
    "\n",
    "from sklearn.preprocessing import LabelEncoder, OneHotEncoder\n",
    "from sklearn.compose import ColumnTransformer, make_column_selector, make_column_transformer\n",
    "from sklearn.impute import SimpleImputer\n",
    "from sklearn.model_selection import train_test_split\n",
    "\n",
    "from sklearn.metrics import roc_auc_score, accuracy_score, precision_score, recall_score\n",
    "from sklearn.model_selection import cross_val_score\n",
    "from lightgbm.sklearn import LGBMClassifier"
   ]
  },
  {
   "cell_type": "code",
   "execution_count": null,
   "id": "adult-edmonton",
   "metadata": {
    "scrolled": true
   },
   "outputs": [],
   "source": [
    "pr = ProfileReport(train_df, )\n",
    "pr"
   ]
  },
  {
   "cell_type": "code",
   "execution_count": null,
   "id": "liable-oasis",
   "metadata": {},
   "outputs": [],
   "source": [
    "num_columns = ['Age', 'Fare']"
   ]
  },
  {
   "cell_type": "code",
   "execution_count": null,
   "id": "operating-creator",
   "metadata": {},
   "outputs": [],
   "source": [
    "median_imputer = SimpleImputer(strategy='median')"
   ]
  },
  {
   "cell_type": "code",
   "execution_count": null,
   "id": "limiting-event",
   "metadata": {},
   "outputs": [],
   "source": [
    "cat_columns = ['Sex', 'Embarked', 'Pclass']"
   ]
  },
  {
   "cell_type": "code",
   "execution_count": null,
   "id": "raised-irish",
   "metadata": {},
   "outputs": [],
   "source": [
    "ohe = OneHotEncoder(handle_unknown='ignore')"
   ]
  },
  {
   "cell_type": "code",
   "execution_count": null,
   "id": "crucial-netscape",
   "metadata": {},
   "outputs": [],
   "source": [
    "ct = ColumnTransformer(\n",
    "    transformers=[\n",
    "        (\n",
    "            'num_columns', median_imputer, num_columns,\n",
    "        ),\n",
    "        (\n",
    "            'cat_columns', ohe, cat_columns\n",
    "        )\n",
    "    ]\n",
    "\n",
    ")"
   ]
  },
  {
   "cell_type": "code",
   "execution_count": null,
   "id": "fitted-banking",
   "metadata": {},
   "outputs": [],
   "source": [
    "pipeline = Pipeline(\n",
    "    steps=[\n",
    "        ('preprocess', ct),\n",
    "        ('model', LGBMClassifier(n_estimators=150))\n",
    "    ]\n",
    ")"
   ]
  },
  {
   "cell_type": "code",
   "execution_count": null,
   "id": "concerned-commons",
   "metadata": {},
   "outputs": [],
   "source": [
    "train_df = train_df[cat_columns + num_columns + ['Survived']]\n",
    "test_df = test_df[cat_columns + num_columns]"
   ]
  },
  {
   "cell_type": "code",
   "execution_count": null,
   "id": "modified-briefing",
   "metadata": {},
   "outputs": [],
   "source": [
    "x_train, x_test, y_train, y_test = train_test_split(train_df.drop(columns=['Survived']),\n",
    "                                                    train_df.Survived, shuffle=True)"
   ]
  },
  {
   "cell_type": "code",
   "execution_count": null,
   "id": "great-information",
   "metadata": {},
   "outputs": [],
   "source": [
    "cv = cross_val_score(pipeline, x_train, y_train, scoring='accuracy', cv=5)\n",
    "cv.mean(), cv.std()"
   ]
  },
  {
   "cell_type": "code",
   "execution_count": null,
   "id": "lonely-demand",
   "metadata": {},
   "outputs": [],
   "source": []
  }
 ],
 "metadata": {
  "kernelspec": {
   "display_name": "Python (myenv)",
   "language": "python",
   "name": "myenv"
  },
  "language_info": {
   "codemirror_mode": {
    "name": "ipython",
    "version": 3
   },
   "file_extension": ".py",
   "mimetype": "text/x-python",
   "name": "python",
   "nbconvert_exporter": "python",
   "pygments_lexer": "ipython3",
   "version": "3.8.5"
  }
 },
 "nbformat": 4,
 "nbformat_minor": 5
}
